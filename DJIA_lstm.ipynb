{
  "nbformat": 4,
  "nbformat_minor": 0,
  "metadata": {
    "accelerator": "GPU",
    "colab": {
      "name": "DJIA_lstm.ipynb",
      "provenance": [],
      "collapsed_sections": [],
      "machine_shape": "hm"
    },
    "kernelspec": {
      "display_name": "Python 3",
      "name": "python3"
    },
    "language_info": {
      "name": "python"
    }
  },
  "cells": [
    {
      "cell_type": "code",
      "metadata": {
        "colab": {
          "base_uri": "https://localhost:8080/"
        },
        "id": "MsyeffD2Kwkh",
        "outputId": "80c56c6b-384f-43f9-803f-186e4234d963"
      },
      "source": [
        "!pip install -q -U watermark\n",
        "!pip install transformers==3"
      ],
      "execution_count": null,
      "outputs": [
        {
          "output_type": "stream",
          "text": [
            "Requirement already satisfied: transformers==3 in /usr/local/lib/python3.7/dist-packages (3.0.0)\n",
            "Requirement already satisfied: sentencepiece in /usr/local/lib/python3.7/dist-packages (from transformers==3) (0.1.95)\n",
            "Requirement already satisfied: regex!=2019.12.17 in /usr/local/lib/python3.7/dist-packages (from transformers==3) (2019.12.20)\n",
            "Requirement already satisfied: numpy in /usr/local/lib/python3.7/dist-packages (from transformers==3) (1.19.5)\n",
            "Requirement already satisfied: filelock in /usr/local/lib/python3.7/dist-packages (from transformers==3) (3.0.12)\n",
            "Requirement already satisfied: tokenizers==0.8.0-rc4 in /usr/local/lib/python3.7/dist-packages (from transformers==3) (0.8.0rc4)\n",
            "Requirement already satisfied: packaging in /usr/local/lib/python3.7/dist-packages (from transformers==3) (20.9)\n",
            "Requirement already satisfied: sacremoses in /usr/local/lib/python3.7/dist-packages (from transformers==3) (0.0.45)\n",
            "Requirement already satisfied: tqdm>=4.27 in /usr/local/lib/python3.7/dist-packages (from transformers==3) (4.41.1)\n",
            "Requirement already satisfied: requests in /usr/local/lib/python3.7/dist-packages (from transformers==3) (2.23.0)\n",
            "Requirement already satisfied: pyparsing>=2.0.2 in /usr/local/lib/python3.7/dist-packages (from packaging->transformers==3) (2.4.7)\n",
            "Requirement already satisfied: joblib in /usr/local/lib/python3.7/dist-packages (from sacremoses->transformers==3) (1.0.1)\n",
            "Requirement already satisfied: click in /usr/local/lib/python3.7/dist-packages (from sacremoses->transformers==3) (8.0.0)\n",
            "Requirement already satisfied: six in /usr/local/lib/python3.7/dist-packages (from sacremoses->transformers==3) (1.15.0)\n",
            "Requirement already satisfied: urllib3!=1.25.0,!=1.25.1,<1.26,>=1.21.1 in /usr/local/lib/python3.7/dist-packages (from requests->transformers==3) (1.24.3)\n",
            "Requirement already satisfied: certifi>=2017.4.17 in /usr/local/lib/python3.7/dist-packages (from requests->transformers==3) (2020.12.5)\n",
            "Requirement already satisfied: chardet<4,>=3.0.2 in /usr/local/lib/python3.7/dist-packages (from requests->transformers==3) (3.0.4)\n",
            "Requirement already satisfied: idna<3,>=2.5 in /usr/local/lib/python3.7/dist-packages (from requests->transformers==3) (2.10)\n"
          ],
          "name": "stdout"
        }
      ]
    },
    {
      "cell_type": "code",
      "metadata": {
        "colab": {
          "base_uri": "https://localhost:8080/"
        },
        "id": "SI_rkrNsK2s9",
        "outputId": "33183ee3-d16a-44e5-ce16-7ab9525f5853"
      },
      "source": [
        "%reload_ext watermark\n",
        "%watermark -v -p numpy,pandas,torch,transformers"
      ],
      "execution_count": null,
      "outputs": [
        {
          "output_type": "stream",
          "text": [
            "Python implementation: CPython\n",
            "Python version       : 3.7.10\n",
            "IPython version      : 5.5.0\n",
            "\n",
            "numpy       : 1.19.5\n",
            "pandas      : 1.1.5\n",
            "torch       : 1.8.1+cu101\n",
            "transformers: 3.0.0\n",
            "\n"
          ],
          "name": "stdout"
        }
      ]
    },
    {
      "cell_type": "code",
      "metadata": {
        "id": "-Ud2vwc2K5bf"
      },
      "source": [
        "import pandas as pd\n",
        "import numpy as np"
      ],
      "execution_count": null,
      "outputs": []
    },
    {
      "cell_type": "code",
      "metadata": {
        "colab": {
          "base_uri": "https://localhost:8080/",
          "height": 963
        },
        "id": "vcA1L1RIQ1tF",
        "outputId": "cda617dd-7b9b-4a7e-8e37-1744f49157e0"
      },
      "source": [
        "# LABEL CONVERSION\n",
        "dataset = pd.read_csv('Data.csv', parse_dates=['Time'])\n",
        "djia = pd.read_csv('DJIA.csv', parse_dates=['Date'])\n",
        "djia['Diff']= djia['Open'] / djia['Close']\n",
        "djia = djia[['Date','Diff']]\n",
        "\n",
        "hi_limit = 1.007\n",
        "lo_limit = 0.993\n",
        "djia['Diff'][(djia['Diff'] < hi_limit) & (djia['Diff'] > lo_limit)] = 1\n",
        "djia['Diff'][djia['Diff'] >= hi_limit] = 2\n",
        "djia['Diff'][(djia['Diff'] < lo_limit) & (djia['Diff'] > 0)] = 0\n",
        "\n",
        "\n",
        "news_time = dataset[['Time']].groupby('Time').first()\n",
        "price_time = djia[['Date']]\n",
        "common_time = pd.merge(left=news_time, right=price_time, left_on='Time',right_on='Date')\n",
        "\n",
        "\n",
        "common_dataset_ = pd.merge(left=common_time, right=dataset, left_on='Date', right_on='Time').drop(labels='Time', axis=1)\n",
        "common_label_ = pd.merge(left=common_time, right=djia, left_on='Date', right_on='Date')\n",
        "common_label = np.array(common_label_.drop(labels='Date', axis=1))\n",
        "\n",
        "cd = common_dataset_.groupby('Date')\n",
        "common_dataset = []\n",
        "for i in cd:\n",
        "  common_dataset.append(np.array(i[1]['Headlines']))\n",
        "\n",
        "# CONFIRM SYNC\n",
        "print('syncd dataset: ', cd.first(), '\\nsyncd label: \\n', common_label_)\n",
        "print('length of syncd dataset: ', len(common_dataset), '\\nlength of syncd label', len(common_label))\n",
        "\n",
        "djia['Diff'].hist()"
      ],
      "execution_count": null,
      "outputs": [
        {
          "output_type": "stream",
          "text": [
            "/usr/local/lib/python3.7/dist-packages/ipykernel_launcher.py:10: SettingWithCopyWarning: \n",
            "A value is trying to be set on a copy of a slice from a DataFrame\n",
            "\n",
            "See the caveats in the documentation: https://pandas.pydata.org/pandas-docs/stable/user_guide/indexing.html#returning-a-view-versus-a-copy\n",
            "  # Remove the CWD from sys.path while we load stuff.\n",
            "/usr/local/lib/python3.7/dist-packages/ipykernel_launcher.py:11: SettingWithCopyWarning: \n",
            "A value is trying to be set on a copy of a slice from a DataFrame\n",
            "\n",
            "See the caveats in the documentation: https://pandas.pydata.org/pandas-docs/stable/user_guide/indexing.html#returning-a-view-versus-a-copy\n",
            "  # This is added back by InteractiveShellApp.init_path()\n"
          ],
          "name": "stderr"
        },
        {
          "output_type": "stream",
          "text": [
            "syncd dataset:                                                      Headlines\n",
            "Date                                                         \n",
            "2017-12-18  Trump EPA rule change exploits taxpayers for m...\n",
            "2017-12-19  China aims to drastically cut greenhouse gas e...\n",
            "2017-12-20  Marks & Spencer is first supermarket to publis...\n",
            "2017-12-21  Wholesalers set to appeal after Tesco's takeov...\n",
            "2017-12-22  Business live  UK car production heads for fir...\n",
            "...                                                       ...\n",
            "2020-07-13  Daimler talks with workers heat up, with 15,00...\n",
            "2020-07-14  Free pizza and a 75-foot statue of Musk: the b...\n",
            "2020-07-15    J.C. Penney to cut 1,000 jobs, close 152 stores\n",
            "2020-07-16  IMF chief warns global economy 'not out of the...\n",
            "2020-07-17  Stripe wins business following Wirecard's coll...\n",
            "\n",
            "[646 rows x 1 columns] \n",
            "syncd label: \n",
            "           Date  Diff\n",
            "0   2017-12-18   1.0\n",
            "1   2017-12-19   1.0\n",
            "2   2017-12-20   1.0\n",
            "3   2017-12-21   1.0\n",
            "4   2017-12-22   1.0\n",
            "..         ...   ...\n",
            "641 2020-07-13   1.0\n",
            "642 2020-07-14   0.0\n",
            "643 2020-07-15   1.0\n",
            "644 2020-07-16   1.0\n",
            "645 2020-07-17   1.0\n",
            "\n",
            "[646 rows x 2 columns]\n",
            "length of syncd dataset:  646 \n",
            "length of syncd label 646\n"
          ],
          "name": "stdout"
        },
        {
          "output_type": "execute_result",
          "data": {
            "text/plain": [
              "<matplotlib.axes._subplots.AxesSubplot at 0x7f16aa53fc10>"
            ]
          },
          "metadata": {
            "tags": []
          },
          "execution_count": 64
        },
        {
          "output_type": "display_data",
          "data": {
            "image/png": "[encoded data removed]",
            "text/plain": [
              "<Figure size 432x288 with 1 Axes>"
            ]
          },
          "metadata": {
            "tags": []
          }
        }
      ]
    },
    {
      "cell_type": "code",
      "metadata": {
        "colab": {
          "base_uri": "https://localhost:8080/"
        },
        "id": "x1tjs0_tMIzi",
        "outputId": "91ca244d-7854-4ca2-caa3-27ff402ded7e"
      },
      "source": [
        "# Prepare a 1d dataset and label namely, single_data, single_label\n",
        "import matplotlib.pyplot as plt\n",
        "\n",
        "data_list = []\n",
        "label_list = []\n",
        "for i in range(0, len(common_dataset)):\n",
        "    for j in range(0, len(common_dataset[i])):\n",
        "        if common_label[i] != 1:\n",
        "            data_list.append(common_dataset[i][j])\n",
        "            label_list.append(common_label[i])\n",
        "            data_list.append(common_dataset[i][j])\n",
        "            label_list.append(common_label[i])\n",
        "        else:\n",
        "            if j%2 == 0:\n",
        "                data_list.append(common_dataset[i][j])\n",
        "                label_list.append(common_label[i])\n",
        "\n",
        "single_data = np.array(data_list)\n",
        "single_label = np.array(label_list).reshape(-1,)\n",
        "\n",
        "print(len(single_data), len(single_label))\n",
        "np.histogram(single_label)[0]\n"
      ],
      "execution_count": null,
      "outputs": [
        {
          "output_type": "stream",
          "text": [
            "45633 45633\n"
          ],
          "name": "stdout"
        },
        {
          "output_type": "execute_result",
          "data": {
            "text/plain": [
              "array([15320,     0,     0,     0,     0, 14637,     0,     0,     0,\n",
              "       15676])"
            ]
          },
          "metadata": {
            "tags": []
          },
          "execution_count": 65
        }
      ]
    },
    {
      "cell_type": "code",
      "metadata": {
        "colab": {
          "base_uri": "https://localhost:8080/"
        },
        "id": "PU945SDalCGh",
        "outputId": "bc56ac25-a6ba-4fe8-9c85-bd97093fda84"
      },
      "source": [
        "import transformers\n",
        "from transformers import BertTokenizer\n",
        "PRE_TRAINED_MODEL_NAME = 'bert-base-cased'\n",
        "tokenizer = BertTokenizer.from_pretrained(PRE_TRAINED_MODEL_NAME)\n",
        "print('Tokenize a string: ', tokenizer.tokenize(common_dataset[0][0]))\n"
      ],
      "execution_count": null,
      "outputs": [
        {
          "output_type": "stream",
          "text": [
            "Tokenize a string:  ['Trump', 'EPA', 'rule', 'change', 'exploits', 'tax', '##payers', 'for', 'mine', 'clean', '##up', ',', 'critics', 'say']\n"
          ],
          "name": "stdout"
        }
      ]
    },
    {
      "cell_type": "code",
      "metadata": {
        "id": "eumQYGq0lSMD"
      },
      "source": [
        "encoding = tokenizer.encode_plus(\n",
        "  common_dataset[0][0],\n",
        "  max_length=32,\n",
        "  add_special_tokens=True, \n",
        "  return_token_type_ids=False,\n",
        "  pad_to_max_length=True,\n",
        "  return_attention_mask=True,\n",
        "  return_tensors='pt',  \n",
        "  truncation=True\n",
        ")\n",
        "\n",
        "# BUILD DATASET\n",
        "\n",
        "\n",
        "import torch\n",
        "from torch.utils.data import Dataset, DataLoader\n",
        "\n",
        "class GPReviewDataset(Dataset):\n",
        "\n",
        "  def __init__(self, reviews, targets, tokenizer, max_len):\n",
        "    self.reviews = reviews\n",
        "    self.targets = targets\n",
        "    self.tokenizer = tokenizer\n",
        "    self.max_len = max_len\n",
        "  \n",
        "  def __len__(self):\n",
        "    return len(self.reviews)\n",
        "  \n",
        "  def __getitem__(self, item):\n",
        "    review = str(self.reviews[item])\n",
        "    target = self.targets[item]\n",
        "\n",
        "    encoding = self.tokenizer.encode_plus(\n",
        "      review,\n",
        "      add_special_tokens=True,\n",
        "      max_length=self.max_len,\n",
        "      return_token_type_ids=False,\n",
        "      pad_to_max_length=True,\n",
        "      return_attention_mask=True,\n",
        "      return_tensors='pt',\n",
        "      truncation=True\n",
        "    )\n",
        "\n",
        "    return {\n",
        "      'review_text': review,\n",
        "      'input_ids': encoding['input_ids'].flatten(),\n",
        "      'attention_mask': encoding['attention_mask'].flatten(),\n",
        "      'targets': torch.tensor(target, dtype=torch.long)\n",
        "    }\n",
        "\n"
      ],
      "execution_count": null,
      "outputs": []
    },
    {
      "cell_type": "code",
      "metadata": {
        "colab": {
          "base_uri": "https://localhost:8080/"
        },
        "id": "vUDsrcj6lXxu",
        "outputId": "da86937a-76f4-448a-a9f0-1d6a43f44324"
      },
      "source": [
        "MAX_LEN = 160\n",
        "\n",
        "# train test split\n",
        "\n",
        "from sklearn.model_selection import train_test_split\n",
        "\n",
        "from sklearn.model_selection import train_test_split\n",
        "import tensorflow as tf\n",
        "\n",
        "t_X, val_X, t_Y, val_Y = train_test_split(single_data, single_label, test_size = 0.1)\n",
        "train_X, test_X, train_Y, test_Y = train_test_split(t_X, t_Y, test_size = 0.1)\n",
        "\n",
        "t_Y = tf.one_hot(t_Y, 3)\n",
        "val_Y = tf.one_hot(val_Y, 3)\n",
        "train_Y = tf.one_hot(train_Y, 3)\n",
        "test_Y = tf.one_hot(test_Y, 3)\n",
        "\n"
      ],
      "execution_count": null,
      "outputs": [
        {
          "output_type": "stream",
          "text": [
            "trainloader shape:  514\n"
          ],
          "name": "stdout"
        }
      ]
    },
    {
      "cell_type": "markdown",
      "metadata": {
        "id": "9RayECaGh3ih"
      },
      "source": [
        ""
      ]
    },
    {
      "cell_type": "code",
      "metadata": {
        "id": "bEdugDtqug9m"
      },
      "source": [
        "#LSTM Model\n",
        "\n",
        "from keras.models import Sequential\n",
        "from keras.layers import LSTM\n",
        "from keras.layers import Dropout\n",
        "from keras.layers import Dense, Input"
      ],
      "execution_count": null,
      "outputs": []
    },
    {
      "cell_type": "code",
      "metadata": {
        "id": "V7_drqGQCAFG"
      },
      "source": [
        "import tensorflow as tf\n",
        "from tensorflow.keras.preprocessing.sequence import pad_sequences\n",
        "from tensorflow.keras.layers import Embedding, LSTM, Dense, Bidirectional\n",
        "from tensorflow.keras.preprocessing.text import Tokenizer\n",
        "from tensorflow.keras.models import Sequential\n",
        "from tensorflow.keras.optimizers import Adam\n",
        "import numpy as np\n"
      ],
      "execution_count": null,
      "outputs": []
    },
    {
      "cell_type": "code",
      "metadata": {
        "colab": {
          "base_uri": "https://localhost:8080/"
        },
        "id": "TJEkKUqdCLR8",
        "outputId": "3699439b-1593-4d2d-871d-f45ff2f5c095"
      },
      "source": [
        "# Tokenizing the sentences \n",
        "\n",
        "tokenizer = Tokenizer()\n",
        "\n",
        "tokenizer.fit_on_texts(train_X)\n",
        "total_words = len(tokenizer.word_index) + 1\n",
        "\n",
        "print(tokenizer.num_words)"
      ],
      "execution_count": null,
      "outputs": [
        {
          "output_type": "stream",
          "text": [
            "None\n"
          ],
          "name": "stdout"
        }
      ]
    },
    {
      "cell_type": "code",
      "metadata": {
        "id": "7dQkHMFZEPtm"
      },
      "source": [
        "# Tokenizing and padding the news headlines for LSTM input\n",
        "\n",
        "def convert_to_sequences(input_array, max_seq_len = 0):\n",
        "  token_list = tokenizer.texts_to_sequences(input_array)\n",
        "  max_seq_len = max(max([len(x) for x in token_list]), max_seq_len)\n",
        "  input_sequences = np.array(pad_sequences(token_list, maxlen=max_seq_len, padding='post'))\n",
        "  return input_sequences, max_seq_len"
      ],
      "execution_count": null,
      "outputs": []
    },
    {
      "cell_type": "markdown",
      "metadata": {
        "id": "3sVniUlOYHt0"
      },
      "source": [
        ""
      ]
    },
    {
      "cell_type": "code",
      "metadata": {
        "colab": {
          "base_uri": "https://localhost:8080/"
        },
        "id": "WxKKRz-mGeqm",
        "outputId": "222427fd-6181-4344-cfbb-8a6bd7ffdc7b"
      },
      "source": [
        "input_sequences = []\n",
        "\n",
        "token_list, max_seq_len = convert_to_sequences(train_X, 0)\n",
        "token_list.shape"
      ],
      "execution_count": null,
      "outputs": [
        {
          "output_type": "execute_result",
          "data": {
            "text/plain": [
              "(36962, 30)"
            ]
          },
          "metadata": {
            "tags": []
          },
          "execution_count": 84
        }
      ]
    },
    {
      "cell_type": "markdown",
      "metadata": {
        "id": "OfhBhxXIKNTZ"
      },
      "source": [
        ""
      ]
    },
    {
      "cell_type": "code",
      "metadata": {
        "colab": {
          "background_save": true,
          "base_uri": "https://localhost:8080/"
        },
        "id": "HtvJZWRfr3xZ",
        "outputId": "86cbb189-3c92-484d-cdc8-e8a27df75e29"
      },
      "source": [
        "# # Building, training and fitting the LSTM model\n",
        "\n",
        "import numpy\n",
        "\n",
        "model = Sequential()\n",
        "\n",
        "Xx = token_list\n",
        "\n",
        "Yy = train_Y\n",
        "model.add(Embedding(total_words, 10, input_length=Xx.shape[1]))\n",
        "model.add(LSTM(100, dropout=0.2, recurrent_dropout=0.2))\n",
        "model.add(Dense(3, activation='softmax'))\n",
        "\n",
        "model.compile(optimizer='adam',loss='categorical_crossentropy', metrics=['accuracy'])\n",
        "\n",
        "# print(Xx, Yy)\n",
        "\n",
        "val_Xx, max_seq_len = convert_to_sequences(val_X, max_seq_len)\n",
        "\n",
        "val_Yy = val_Y\n",
        "\n",
        "# Fit the model\n",
        "model.fit(Xx, Yy, epochs=15, batch_size=32, validation_data=(val_Xx, val_Yy))"
      ],
      "execution_count": null,
      "outputs": [
        {
          "output_type": "stream",
          "text": [
            "WARNING:tensorflow:Layer lstm_3 will not use cuDNN kernel since it doesn't meet the cuDNN kernel criteria. It will use generic GPU kernel as fallback when running on GPU\n",
            "Epoch 1/15\n",
            "1156/1156 [==============================] - 120s 102ms/step - loss: 1.0986 - accuracy: 0.3461 - val_loss: 1.0812 - val_accuracy: 0.3983\n",
            "Epoch 2/15\n",
            "1156/1156 [==============================] - 117s 102ms/step - loss: 1.0425 - accuracy: 0.4544 - val_loss: 1.0179 - val_accuracy: 0.4761\n",
            "Epoch 3/15\n",
            "1156/1156 [==============================] - 117s 102ms/step - loss: 0.8786 - accuracy: 0.6011 - val_loss: 1.0090 - val_accuracy: 0.5175\n",
            "Epoch 4/15\n",
            "1156/1156 [==============================] - 116s 100ms/step - loss: 0.7418 - accuracy: 0.6900 - val_loss: 0.9729 - val_accuracy: 0.5550\n",
            "Epoch 5/15\n",
            "1156/1156 [==============================] - 118s 102ms/step - loss: 0.6411 - accuracy: 0.7430 - val_loss: 1.0062 - val_accuracy: 0.5660\n",
            "Epoch 6/15\n",
            "1156/1156 [==============================] - 117s 101ms/step - loss: 0.5751 - accuracy: 0.7696 - val_loss: 0.9558 - val_accuracy: 0.5982\n",
            "Epoch 7/15\n",
            "1156/1156 [==============================] - 117s 101ms/step - loss: 0.5075 - accuracy: 0.8044 - val_loss: 1.0045 - val_accuracy: 0.6098\n",
            "Epoch 8/15\n",
            "1156/1156 [==============================] - 117s 101ms/step - loss: 0.4697 - accuracy: 0.8158 - val_loss: 0.9733 - val_accuracy: 0.6242\n",
            "Epoch 9/15\n",
            "1156/1156 [==============================] - 116s 101ms/step - loss: 0.4222 - accuracy: 0.8349 - val_loss: 0.9830 - val_accuracy: 0.6391\n",
            "Epoch 10/15\n",
            "1156/1156 [==============================] - 116s 100ms/step - loss: 0.3863 - accuracy: 0.8462 - val_loss: 0.9905 - val_accuracy: 0.6507\n",
            "Epoch 11/15\n",
            "1156/1156 [==============================] - 116s 101ms/step - loss: 0.3506 - accuracy: 0.8627 - val_loss: 0.9613 - val_accuracy: 0.6591\n",
            "Epoch 12/15\n",
            "1156/1156 [==============================] - 116s 101ms/step - loss: 0.3358 - accuracy: 0.8680 - val_loss: 0.9896 - val_accuracy: 0.6661\n",
            "Epoch 13/15\n",
            "1156/1156 [==============================] - 116s 101ms/step - loss: 0.3139 - accuracy: 0.8731 - val_loss: 1.0560 - val_accuracy: 0.6702\n",
            "Epoch 14/15\n",
            "1156/1156 [==============================] - 114s 99ms/step - loss: 0.2899 - accuracy: 0.8841 - val_loss: 1.0362 - val_accuracy: 0.6775\n",
            "Epoch 15/15\n",
            "1156/1156 [==============================] - 114s 99ms/step - loss: 0.2750 - accuracy: 0.8919 - val_loss: 1.0495 - val_accuracy: 0.6869\n"
          ],
          "name": "stdout"
        },
        {
          "output_type": "execute_result",
          "data": {
            "text/plain": [
              "<tensorflow.python.keras.callbacks.History at 0x7f16ab06fed0>"
            ]
          },
          "metadata": {
            "tags": []
          },
          "execution_count": 0
        }
      ]
    },
    {
      "cell_type": "markdown",
      "metadata": {
        "id": "4PUkkuDfCbPT"
      },
      "source": [
        ""
      ]
    },
    {
      "cell_type": "code",
      "metadata": {
        "id": "Sd02BkrpvUqt"
      },
      "source": [
        "X_test2 = tokenizer.texts_to_matrix(\n",
        "    test_X, mode='binary'\n",
        ")"
      ],
      "execution_count": null,
      "outputs": []
    },
    {
      "cell_type": "code",
      "metadata": {
        "id": "VV3tOp_4vXr-",
        "colab": {
          "base_uri": "https://localhost:8080/"
        },
        "outputId": "6c8c72ee-d37c-4535-92f9-4f74cfac63dc"
      },
      "source": [
        "\n",
        "Xx_test, max_seq_len = convert_to_sequences(test_X, max_seq_len)\n",
        "Yy_test = test_Y \n",
        "\n",
        "test_Y.shape"
      ],
      "execution_count": null,
      "outputs": [
        {
          "output_type": "execute_result",
          "data": {
            "text/plain": [
              "TensorShape([4107, 3])"
            ]
          },
          "metadata": {
            "tags": []
          },
          "execution_count": 96
        }
      ]
    },
    {
      "cell_type": "code",
      "metadata": {
        "id": "E5v2ekPMvgwU",
        "colab": {
          "base_uri": "https://localhost:8080/"
        },
        "outputId": "dcadbb9d-bf6f-4493-ccc9-8576a0567185"
      },
      "source": [
        "Xx_test.shape"
      ],
      "execution_count": null,
      "outputs": [
        {
          "output_type": "execute_result",
          "data": {
            "text/plain": [
              "(4107, 30)"
            ]
          },
          "metadata": {
            "tags": []
          },
          "execution_count": 97
        }
      ]
    },
    {
      "cell_type": "code",
      "metadata": {
        "id": "nXRW6mXuwqO9",
        "colab": {
          "base_uri": "https://localhost:8080/"
        },
        "outputId": "56f3e3f7-50a6-4c59-e721-deeb2499ef3f"
      },
      "source": [
        "Yy_test.shape\n",
        "\n",
        "Yy.shape\n",
        "\n",
        "val_Yy.shape"
      ],
      "execution_count": null,
      "outputs": [
        {
          "output_type": "execute_result",
          "data": {
            "text/plain": [
              "TensorShape([4564, 3])"
            ]
          },
          "metadata": {
            "tags": []
          },
          "execution_count": 98
        }
      ]
    },
    {
      "cell_type": "code",
      "metadata": {
        "id": "GGx7WHPwva3n",
        "colab": {
          "base_uri": "https://localhost:8080/"
        },
        "outputId": "6e6d4565-514f-4c4a-c9c7-9bcaea732452"
      },
      "source": [
        "\n",
        "predicted_trend = model.predict(Xx_test)\n",
        "print(predicted_trend.shape)\n"
      ],
      "execution_count": null,
      "outputs": [
        {
          "output_type": "stream",
          "text": [
            "(4107, 3)\n"
          ],
          "name": "stdout"
        }
      ]
    },
    {
      "cell_type": "code",
      "metadata": {
        "id": "rB1iRAo64YgN",
        "colab": {
          "base_uri": "https://localhost:8080/"
        },
        "outputId": "0848cde5-b841-4a7d-8272-0de88b823a7b"
      },
      "source": [
        "\n",
        "print(predicted_trend.argmax(axis=-1))\n",
        "\n",
        "predicted_trend_list = predicted_trend.argmax(axis=-1)\n",
        "expected_trend_list = np.array(Yy_test).argmax(axis=-1)\n",
        "\n",
        "\n",
        "print(expected_trend_list.shape, predicted_trend_list.shape)"
      ],
      "execution_count": null,
      "outputs": [
        {
          "output_type": "stream",
          "text": [
            "[2 1 2 ... 0 2 1]\n",
            "(4107,) (4107,)\n"
          ],
          "name": "stdout"
        }
      ]
    },
    {
      "cell_type": "code",
      "metadata": {
        "id": "nreVyJjPxi1U",
        "colab": {
          "base_uri": "https://localhost:8080/"
        },
        "outputId": "40937c94-0758-47c6-a044-062ae008e77e"
      },
      "source": [
        "# Finding the accuarcy on the test data \n",
        "\n",
        "model.evaluate(Xx_test, Yy_test)"
      ],
      "execution_count": null,
      "outputs": [
        {
          "output_type": "stream",
          "text": [
            "129/129 [==============================] - 1s 9ms/step - loss: 1.0294 - accuracy: 0.6898\n"
          ],
          "name": "stdout"
        },
        {
          "output_type": "execute_result",
          "data": {
            "text/plain": [
              "[1.0293949842453003, 0.6897978782653809]"
            ]
          },
          "metadata": {
            "tags": []
          },
          "execution_count": 109
        }
      ]
    },
    {
      "cell_type": "code",
      "metadata": {
        "colab": {
          "base_uri": "https://localhost:8080/",
          "height": 281
        },
        "id": "vah62W-56TiP",
        "outputId": "41042a47-ec96-441e-975a-9a11a88cab06"
      },
      "source": [
        "# Confusion Matrix and Heat Map to see the results\n",
        "\n",
        "from sklearn.metrics import confusion_matrix\n",
        "from seaborn import heatmap\n",
        "\n",
        "confusion_matrix = confusion_matrix(expected_trend_list, predicted_trend_list)\n",
        "heatmap(confusion_matrix, annot=True, fmt='d')"
      ],
      "execution_count": null,
      "outputs": [
        {
          "output_type": "execute_result",
          "data": {
            "text/plain": [
              "<matplotlib.axes._subplots.AxesSubplot at 0x7f16ab64dad0>"
            ]
          },
          "metadata": {
            "tags": []
          },
          "execution_count": 110
        },
        {
          "output_type": "display_data",
          "data": {
            "image/png": "[encoded data removed]",
            "text/plain": [
              "<Figure size 432x288 with 2 Axes>"
            ]
          },
          "metadata": {
            "tags": [],
            "needs_background": "light"
          }
        }
      ]
    },
    {
      "cell_type": "code",
      "metadata": {
        "colab": {
          "base_uri": "https://localhost:8080/"
        },
        "id": "_aKlLIME6UNY",
        "outputId": "90a73170-9e2d-413b-915d-5491ff85e5d2"
      },
      "source": [
        "# Classification Report ffor LSTM\n",
        "from sklearn.metrics import classification_report\n",
        "print(classification_report(predicted_trend_list, expected_trend_list))"
      ],
      "execution_count": null,
      "outputs": [
        {
          "output_type": "stream",
          "text": [
            "              precision    recall  f1-score   support\n",
            "\n",
            "           0       0.78      0.71      0.75      1529\n",
            "           1       0.46      0.67      0.55       911\n",
            "           2       0.82      0.68      0.74      1667\n",
            "\n",
            "    accuracy                           0.69      4107\n",
            "   macro avg       0.69      0.69      0.68      4107\n",
            "weighted avg       0.72      0.69      0.70      4107\n",
            "\n"
          ],
          "name": "stdout"
        }
      ]
    },
    {
      "cell_type": "code",
      "metadata": {
        "colab": {
          "base_uri": "https://localhost:8080/"
        },
        "id": "2te3q9DGAe_V",
        "outputId": "0c6df4b4-e396-4c97-a26e-12e4a1f5a596"
      },
      "source": [
        "# saving the model\n",
        "# model.save('model_v1')"
      ],
      "execution_count": null,
      "outputs": [
        {
          "output_type": "stream",
          "text": [
            "INFO:tensorflow:Assets written to: model_v1/assets\n"
          ],
          "name": "stdout"
        }
      ]
    }
  ]
}
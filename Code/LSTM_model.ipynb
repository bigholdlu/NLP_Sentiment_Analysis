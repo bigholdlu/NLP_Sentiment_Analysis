{
  "nbformat": 4,
  "nbformat_minor": 0,
  "metadata": {
    "accelerator": "GPU",
    "colab": {
      "name": "LSTM_model.ipynb",
      "provenance": [],
      "collapsed_sections": [],
      "machine_shape": "hm"
    },
    "kernelspec": {
      "display_name": "Python 3",
      "name": "python3"
    },
    "language_info": {
      "name": "python"
    },
    "widgets": {
      "application/vnd.jupyter.widget-state+json": {
        "abb7349e0b05474ea52f1f3b707f3323": {
          "model_module": "@jupyter-widgets/controls",
          "model_name": "HBoxModel",
          "state": {
            "_view_name": "HBoxView",
            "_dom_classes": [],
            "_model_name": "HBoxModel",
            "_view_module": "@jupyter-widgets/controls",
            "_model_module_version": "1.5.0",
            "_view_count": null,
            "_view_module_version": "1.5.0",
            "box_style": "",
            "layout": "IPY_MODEL_9c76939774a049e89b8cbb08b074c5ee",
            "_model_module": "@jupyter-widgets/controls",
            "children": [
              "IPY_MODEL_bac8fae59cfd42fabf01570d79c473a7",
              "IPY_MODEL_deba19746c6b438fa6bf057ce1232b6d"
            ]
          }
        },
        "9c76939774a049e89b8cbb08b074c5ee": {
          "model_module": "@jupyter-widgets/base",
          "model_name": "LayoutModel",
          "state": {
            "_view_name": "LayoutView",
            "grid_template_rows": null,
            "right": null,
            "justify_content": null,
            "_view_module": "@jupyter-widgets/base",
            "overflow": null,
            "_model_module_version": "1.2.0",
            "_view_count": null,
            "flex_flow": null,
            "width": null,
            "min_width": null,
            "border": null,
            "align_items": null,
            "bottom": null,
            "_model_module": "@jupyter-widgets/base",
            "top": null,
            "grid_column": null,
            "overflow_y": null,
            "overflow_x": null,
            "grid_auto_flow": null,
            "grid_area": null,
            "grid_template_columns": null,
            "flex": null,
            "_model_name": "LayoutModel",
            "justify_items": null,
            "grid_row": null,
            "max_height": null,
            "align_content": null,
            "visibility": null,
            "align_self": null,
            "height": null,
            "min_height": null,
            "padding": null,
            "grid_auto_rows": null,
            "grid_gap": null,
            "max_width": null,
            "order": null,
            "_view_module_version": "1.2.0",
            "grid_template_areas": null,
            "object_position": null,
            "object_fit": null,
            "grid_auto_columns": null,
            "margin": null,
            "display": null,
            "left": null
          }
        },
        "bac8fae59cfd42fabf01570d79c473a7": {
          "model_module": "@jupyter-widgets/controls",
          "model_name": "FloatProgressModel",
          "state": {
            "_view_name": "ProgressView",
            "style": "IPY_MODEL_2e1bcada56544784bbbbfe5fa67f25ae",
            "_dom_classes": [],
            "description": "Downloading: 100%",
            "_model_name": "FloatProgressModel",
            "bar_style": "success",
            "max": 213450,
            "_view_module": "@jupyter-widgets/controls",
            "_model_module_version": "1.5.0",
            "value": 213450,
            "_view_count": null,
            "_view_module_version": "1.5.0",
            "orientation": "horizontal",
            "min": 0,
            "description_tooltip": null,
            "_model_module": "@jupyter-widgets/controls",
            "layout": "IPY_MODEL_46851a39b5cd459f9416f43fea185a72"
          }
        },
        "deba19746c6b438fa6bf057ce1232b6d": {
          "model_module": "@jupyter-widgets/controls",
          "model_name": "HTMLModel",
          "state": {
            "_view_name": "HTMLView",
            "style": "IPY_MODEL_4a67b1f94c634c6798fb8fa048fe45d1",
            "_dom_classes": [],
            "description": "",
            "_model_name": "HTMLModel",
            "placeholder": "​",
            "_view_module": "@jupyter-widgets/controls",
            "_model_module_version": "1.5.0",
            "value": " 213k/213k [00:00&lt;00:00, 581kB/s]",
            "_view_count": null,
            "_view_module_version": "1.5.0",
            "description_tooltip": null,
            "_model_module": "@jupyter-widgets/controls",
            "layout": "IPY_MODEL_6a8a6874eab244c2916e36e4d7af3076"
          }
        },
        "2e1bcada56544784bbbbfe5fa67f25ae": {
          "model_module": "@jupyter-widgets/controls",
          "model_name": "ProgressStyleModel",
          "state": {
            "_view_name": "StyleView",
            "_model_name": "ProgressStyleModel",
            "description_width": "initial",
            "_view_module": "@jupyter-widgets/base",
            "_model_module_version": "1.5.0",
            "_view_count": null,
            "_view_module_version": "1.2.0",
            "bar_color": null,
            "_model_module": "@jupyter-widgets/controls"
          }
        },
        "46851a39b5cd459f9416f43fea185a72": {
          "model_module": "@jupyter-widgets/base",
          "model_name": "LayoutModel",
          "state": {
            "_view_name": "LayoutView",
            "grid_template_rows": null,
            "right": null,
            "justify_content": null,
            "_view_module": "@jupyter-widgets/base",
            "overflow": null,
            "_model_module_version": "1.2.0",
            "_view_count": null,
            "flex_flow": null,
            "width": null,
            "min_width": null,
            "border": null,
            "align_items": null,
            "bottom": null,
            "_model_module": "@jupyter-widgets/base",
            "top": null,
            "grid_column": null,
            "overflow_y": null,
            "overflow_x": null,
            "grid_auto_flow": null,
            "grid_area": null,
            "grid_template_columns": null,
            "flex": null,
            "_model_name": "LayoutModel",
            "justify_items": null,
            "grid_row": null,
            "max_height": null,
            "align_content": null,
            "visibility": null,
            "align_self": null,
            "height": null,
            "min_height": null,
            "padding": null,
            "grid_auto_rows": null,
            "grid_gap": null,
            "max_width": null,
            "order": null,
            "_view_module_version": "1.2.0",
            "grid_template_areas": null,
            "object_position": null,
            "object_fit": null,
            "grid_auto_columns": null,
            "margin": null,
            "display": null,
            "left": null
          }
        },
        "4a67b1f94c634c6798fb8fa048fe45d1": {
          "model_module": "@jupyter-widgets/controls",
          "model_name": "DescriptionStyleModel",
          "state": {
            "_view_name": "StyleView",
            "_model_name": "DescriptionStyleModel",
            "description_width": "",
            "_view_module": "@jupyter-widgets/base",
            "_model_module_version": "1.5.0",
            "_view_count": null,
            "_view_module_version": "1.2.0",
            "_model_module": "@jupyter-widgets/controls"
          }
        },
        "6a8a6874eab244c2916e36e4d7af3076": {
          "model_module": "@jupyter-widgets/base",
          "model_name": "LayoutModel",
          "state": {
            "_view_name": "LayoutView",
            "grid_template_rows": null,
            "right": null,
            "justify_content": null,
            "_view_module": "@jupyter-widgets/base",
            "overflow": null,
            "_model_module_version": "1.2.0",
            "_view_count": null,
            "flex_flow": null,
            "width": null,
            "min_width": null,
            "border": null,
            "align_items": null,
            "bottom": null,
            "_model_module": "@jupyter-widgets/base",
            "top": null,
            "grid_column": null,
            "overflow_y": null,
            "overflow_x": null,
            "grid_auto_flow": null,
            "grid_area": null,
            "grid_template_columns": null,
            "flex": null,
            "_model_name": "LayoutModel",
            "justify_items": null,
            "grid_row": null,
            "max_height": null,
            "align_content": null,
            "visibility": null,
            "align_self": null,
            "height": null,
            "min_height": null,
            "padding": null,
            "grid_auto_rows": null,
            "grid_gap": null,
            "max_width": null,
            "order": null,
            "_view_module_version": "1.2.0",
            "grid_template_areas": null,
            "object_position": null,
            "object_fit": null,
            "grid_auto_columns": null,
            "margin": null,
            "display": null,
            "left": null
          }
        }
      }
    }
  },
  "cells": [
    {
      "cell_type": "code",
      "metadata": {
        "colab": {
          "base_uri": "https://localhost:8080/"
        },
        "id": "MsyeffD2Kwkh",
        "outputId": "c27a110e-29e9-44d4-f737-82afbe8eb08b"
      },
      "source": [
        "!pip install -q -U watermark\n",
        "!pip install transformers==3"
      ],
      "execution_count": 1,
      "outputs": [
        {
          "output_type": "stream",
          "text": [
            "Collecting transformers==3\n",
            "\u001b[?25l  Downloading https://files.pythonhosted.org/packages/9c/35/1c3f6e62d81f5f0daff1384e6d5e6c5758682a8357ebc765ece2b9def62b/transformers-3.0.0-py3-none-any.whl (754kB)\n",
            "\u001b[K     |████████████████████████████████| 757kB 15.1MB/s \n",
            "\u001b[?25hRequirement already satisfied: tqdm>=4.27 in /usr/local/lib/python3.7/dist-packages (from transformers==3) (4.41.1)\n",
            "Collecting sacremoses\n",
            "\u001b[?25l  Downloading https://files.pythonhosted.org/packages/75/ee/67241dc87f266093c533a2d4d3d69438e57d7a90abb216fa076e7d475d4a/sacremoses-0.0.45-py3-none-any.whl (895kB)\n",
            "\u001b[K     |████████████████████████████████| 901kB 29.1MB/s \n",
            "\u001b[?25hRequirement already satisfied: packaging in /usr/local/lib/python3.7/dist-packages (from transformers==3) (20.9)\n",
            "Requirement already satisfied: regex!=2019.12.17 in /usr/local/lib/python3.7/dist-packages (from transformers==3) (2019.12.20)\n",
            "Requirement already satisfied: filelock in /usr/local/lib/python3.7/dist-packages (from transformers==3) (3.0.12)\n",
            "Requirement already satisfied: requests in /usr/local/lib/python3.7/dist-packages (from transformers==3) (2.23.0)\n",
            "Collecting sentencepiece\n",
            "\u001b[?25l  Downloading https://files.pythonhosted.org/packages/f5/99/e0808cb947ba10f575839c43e8fafc9cc44e4a7a2c8f79c60db48220a577/sentencepiece-0.1.95-cp37-cp37m-manylinux2014_x86_64.whl (1.2MB)\n",
            "\u001b[K     |████████████████████████████████| 1.2MB 58.8MB/s \n",
            "\u001b[?25hRequirement already satisfied: numpy in /usr/local/lib/python3.7/dist-packages (from transformers==3) (1.19.5)\n",
            "Collecting tokenizers==0.8.0-rc4\n",
            "\u001b[?25l  Downloading https://files.pythonhosted.org/packages/f7/82/0e82a95bd9db2b32569500cc1bb47aa7c4e0f57aa5e35cceba414096917b/tokenizers-0.8.0rc4-cp37-cp37m-manylinux1_x86_64.whl (3.0MB)\n",
            "\u001b[K     |████████████████████████████████| 3.0MB 49.9MB/s \n",
            "\u001b[?25hRequirement already satisfied: six in /usr/local/lib/python3.7/dist-packages (from sacremoses->transformers==3) (1.15.0)\n",
            "Requirement already satisfied: click in /usr/local/lib/python3.7/dist-packages (from sacremoses->transformers==3) (8.0.0)\n",
            "Requirement already satisfied: joblib in /usr/local/lib/python3.7/dist-packages (from sacremoses->transformers==3) (1.0.1)\n",
            "Requirement already satisfied: pyparsing>=2.0.2 in /usr/local/lib/python3.7/dist-packages (from packaging->transformers==3) (2.4.7)\n",
            "Requirement already satisfied: urllib3!=1.25.0,!=1.25.1,<1.26,>=1.21.1 in /usr/local/lib/python3.7/dist-packages (from requests->transformers==3) (1.24.3)\n",
            "Requirement already satisfied: idna<3,>=2.5 in /usr/local/lib/python3.7/dist-packages (from requests->transformers==3) (2.10)\n",
            "Requirement already satisfied: certifi>=2017.4.17 in /usr/local/lib/python3.7/dist-packages (from requests->transformers==3) (2020.12.5)\n",
            "Requirement already satisfied: chardet<4,>=3.0.2 in /usr/local/lib/python3.7/dist-packages (from requests->transformers==3) (3.0.4)\n",
            "Installing collected packages: sacremoses, sentencepiece, tokenizers, transformers\n",
            "Successfully installed sacremoses-0.0.45 sentencepiece-0.1.95 tokenizers-0.8.0rc4 transformers-3.0.0\n"
          ],
          "name": "stdout"
        }
      ]
    },
    {
      "cell_type": "code",
      "metadata": {
        "colab": {
          "base_uri": "https://localhost:8080/"
        },
        "id": "SI_rkrNsK2s9",
        "outputId": "cfcccc0c-87da-459f-c667-016acf3d52fb"
      },
      "source": [
        "%reload_ext watermark\n",
        "%watermark -v -p numpy,pandas,torch,transformers"
      ],
      "execution_count": 2,
      "outputs": [
        {
          "output_type": "stream",
          "text": [
            "Python implementation: CPython\n",
            "Python version       : 3.7.10\n",
            "IPython version      : 5.5.0\n",
            "\n",
            "numpy       : 1.19.5\n",
            "pandas      : 1.1.5\n",
            "torch       : 1.8.1+cu101\n",
            "transformers: 3.0.0\n",
            "\n"
          ],
          "name": "stdout"
        }
      ]
    },
    {
      "cell_type": "code",
      "metadata": {
        "id": "-Ud2vwc2K5bf"
      },
      "source": [
        "import pandas as pd\n",
        "import numpy as np"
      ],
      "execution_count": 3,
      "outputs": []
    },
    {
      "cell_type": "code",
      "metadata": {
        "colab": {
          "base_uri": "https://localhost:8080/",
          "height": 963
        },
        "id": "vcA1L1RIQ1tF",
        "outputId": "da6a106b-65f1-4953-d9f2-cd64934fcb51"
      },
      "source": [
        "# LABEL CONVERSION\n",
        "dataset = pd.read_csv('Data.csv', parse_dates=['Time'])\n",
        "djia = pd.read_csv('DJIA.csv', parse_dates=['Date'])\n",
        "djia['Diff']= djia['Open'] / djia['Close']\n",
        "djia = djia[['Date','Diff']]\n",
        "\n",
        "hi_limit = 1.007\n",
        "lo_limit = 0.993\n",
        "djia['Diff'][(djia['Diff'] < hi_limit) & (djia['Diff'] > lo_limit)] = 1\n",
        "djia['Diff'][djia['Diff'] >= hi_limit] = 2\n",
        "djia['Diff'][(djia['Diff'] < lo_limit) & (djia['Diff'] > 0)] = 0\n",
        "\n",
        "\n",
        "news_time = dataset[['Time']].groupby('Time').first()\n",
        "price_time = djia[['Date']]\n",
        "common_time = pd.merge(left=news_time, right=price_time, left_on='Time',right_on='Date')\n",
        "\n",
        "\n",
        "common_dataset_ = pd.merge(left=common_time, right=dataset, left_on='Date', right_on='Time').drop(labels='Time', axis=1)\n",
        "common_label_ = pd.merge(left=common_time, right=djia, left_on='Date', right_on='Date')\n",
        "common_label = np.array(common_label_.drop(labels='Date', axis=1))\n",
        "\n",
        "cd = common_dataset_.groupby('Date')\n",
        "common_dataset = []\n",
        "for i in cd:\n",
        "  common_dataset.append(np.array(i[1]['Headlines']))\n",
        "\n",
        "# CONFIRM SYNC\n",
        "print('syncd dataset: ', cd.first(), '\\nsyncd label: \\n', common_label_)\n",
        "print('length of syncd dataset: ', len(common_dataset), '\\nlength of syncd label', len(common_label))\n",
        "\n",
        "djia['Diff'].hist()"
      ],
      "execution_count": 6,
      "outputs": [
        {
          "output_type": "stream",
          "text": [
            "/usr/local/lib/python3.7/dist-packages/ipykernel_launcher.py:10: SettingWithCopyWarning: \n",
            "A value is trying to be set on a copy of a slice from a DataFrame\n",
            "\n",
            "See the caveats in the documentation: https://pandas.pydata.org/pandas-docs/stable/user_guide/indexing.html#returning-a-view-versus-a-copy\n",
            "  # Remove the CWD from sys.path while we load stuff.\n",
            "/usr/local/lib/python3.7/dist-packages/ipykernel_launcher.py:11: SettingWithCopyWarning: \n",
            "A value is trying to be set on a copy of a slice from a DataFrame\n",
            "\n",
            "See the caveats in the documentation: https://pandas.pydata.org/pandas-docs/stable/user_guide/indexing.html#returning-a-view-versus-a-copy\n",
            "  # This is added back by InteractiveShellApp.init_path()\n"
          ],
          "name": "stderr"
        },
        {
          "output_type": "stream",
          "text": [
            "syncd dataset:                                                      Headlines\n",
            "Date                                                         \n",
            "2017-12-18  Trump EPA rule change exploits taxpayers for m...\n",
            "2017-12-19  China aims to drastically cut greenhouse gas e...\n",
            "2017-12-20  Marks & Spencer is first supermarket to publis...\n",
            "2017-12-21  Wholesalers set to appeal after Tesco's takeov...\n",
            "2017-12-22  Business live  UK car production heads for fir...\n",
            "...                                                       ...\n",
            "2020-07-13  Daimler talks with workers heat up, with 15,00...\n",
            "2020-07-14  Free pizza and a 75-foot statue of Musk: the b...\n",
            "2020-07-15    J.C. Penney to cut 1,000 jobs, close 152 stores\n",
            "2020-07-16  IMF chief warns global economy 'not out of the...\n",
            "2020-07-17  Stripe wins business following Wirecard's coll...\n",
            "\n",
            "[646 rows x 1 columns] \n",
            "syncd label: \n",
            "           Date  Diff\n",
            "0   2017-12-18   1.0\n",
            "1   2017-12-19   1.0\n",
            "2   2017-12-20   1.0\n",
            "3   2017-12-21   1.0\n",
            "4   2017-12-22   1.0\n",
            "..         ...   ...\n",
            "641 2020-07-13   1.0\n",
            "642 2020-07-14   0.0\n",
            "643 2020-07-15   1.0\n",
            "644 2020-07-16   1.0\n",
            "645 2020-07-17   1.0\n",
            "\n",
            "[646 rows x 2 columns]\n",
            "length of syncd dataset:  646 \n",
            "length of syncd label 646\n"
          ],
          "name": "stdout"
        },
        {
          "output_type": "execute_result",
          "data": {
            "text/plain": [
              "<matplotlib.axes._subplots.AxesSubplot at 0x7f69898e3650>"
            ]
          },
          "metadata": {
            "tags": []
          },
          "execution_count": 6
        },
        {
          "output_type": "display_data",
          "data": {
            "image/png": "[encoded data removed]",
            "text/plain": [
              "<Figure size 432x288 with 1 Axes>"
            ]
          },
          "metadata": {
            "tags": [],
            "needs_background": "light"
          }
        }
      ]
    },
    {
      "cell_type": "code",
      "metadata": {
        "colab": {
          "base_uri": "https://localhost:8080/"
        },
        "id": "x1tjs0_tMIzi",
        "outputId": "4292ae9d-8fb0-485c-dff3-0586e7461b13"
      },
      "source": [
        "# Prepare a 1d dataset and label namely, single_data, single_label\n",
        "import matplotlib.pyplot as plt\n",
        "\n",
        "data_list = []\n",
        "label_list = []\n",
        "for i in range(0, len(common_dataset)):\n",
        "    for j in range(0, len(common_dataset[i])):\n",
        "        if common_label[i] != 1:\n",
        "            data_list.append(common_dataset[i][j])\n",
        "            label_list.append(common_label[i])\n",
        "            data_list.append(common_dataset[i][j])\n",
        "            label_list.append(common_label[i])\n",
        "        else:\n",
        "            if j%2 == 0:\n",
        "                data_list.append(common_dataset[i][j])\n",
        "                label_list.append(common_label[i])\n",
        "\n",
        "single_data = np.array(data_list)\n",
        "single_label = np.array(label_list).reshape(-1,)\n",
        "\n",
        "print(len(single_data), len(single_label))\n",
        "np.histogram(single_label)[0]\n"
      ],
      "execution_count": 7,
      "outputs": [
        {
          "output_type": "stream",
          "text": [
            "45633 45633\n"
          ],
          "name": "stdout"
        },
        {
          "output_type": "execute_result",
          "data": {
            "text/plain": [
              "array([15320,     0,     0,     0,     0, 14637,     0,     0,     0,\n",
              "       15676])"
            ]
          },
          "metadata": {
            "tags": []
          },
          "execution_count": 7
        }
      ]
    },
    {
      "cell_type": "code",
      "metadata": {
        "colab": {
          "base_uri": "https://localhost:8080/",
          "height": 81,
          "referenced_widgets": [
            "abb7349e0b05474ea52f1f3b707f3323",
            "9c76939774a049e89b8cbb08b074c5ee",
            "bac8fae59cfd42fabf01570d79c473a7",
            "deba19746c6b438fa6bf057ce1232b6d",
            "2e1bcada56544784bbbbfe5fa67f25ae",
            "46851a39b5cd459f9416f43fea185a72",
            "4a67b1f94c634c6798fb8fa048fe45d1",
            "6a8a6874eab244c2916e36e4d7af3076"
          ]
        },
        "id": "PU945SDalCGh",
        "outputId": "00aec497-b214-4761-ae91-8fb25aa9e412"
      },
      "source": [
        "import transformers\n",
        "from transformers import BertTokenizer\n",
        "PRE_TRAINED_MODEL_NAME = 'bert-base-cased'\n",
        "tokenizer = BertTokenizer.from_pretrained(PRE_TRAINED_MODEL_NAME)\n",
        "print('Tokenize a string: ', tokenizer.tokenize(common_dataset[0][0]))\n"
      ],
      "execution_count": 8,
      "outputs": [
        {
          "output_type": "display_data",
          "data": {
            "application/vnd.jupyter.widget-view+json": {
              "model_id": "abb7349e0b05474ea52f1f3b707f3323",
              "version_minor": 0,
              "version_major": 2
            },
            "text/plain": [
              "HBox(children=(FloatProgress(value=0.0, description='Downloading', max=213450.0, style=ProgressStyle(descripti…"
            ]
          },
          "metadata": {
            "tags": []
          }
        },
        {
          "output_type": "stream",
          "text": [
            "\n",
            "Tokenize a string:  ['Trump', 'EPA', 'rule', 'change', 'exploits', 'tax', '##payers', 'for', 'mine', 'clean', '##up', ',', 'critics', 'say']\n"
          ],
          "name": "stdout"
        }
      ]
    },
    {
      "cell_type": "code",
      "metadata": {
        "id": "eumQYGq0lSMD"
      },
      "source": [
        "encoding = tokenizer.encode_plus(\n",
        "  common_dataset[0][0],\n",
        "  max_length=32,\n",
        "  add_special_tokens=True, \n",
        "  return_token_type_ids=False,\n",
        "  pad_to_max_length=True,\n",
        "  return_attention_mask=True,\n",
        "  return_tensors='pt',  \n",
        "  truncation=True\n",
        ")\n",
        "\n",
        "# BUILD DATASET\n",
        "\n",
        "\n",
        "import torch\n",
        "from torch.utils.data import Dataset, DataLoader\n",
        "\n",
        "class GPReviewDataset(Dataset):\n",
        "\n",
        "  def __init__(self, reviews, targets, tokenizer, max_len):\n",
        "    self.reviews = reviews\n",
        "    self.targets = targets\n",
        "    self.tokenizer = tokenizer\n",
        "    self.max_len = max_len\n",
        "  \n",
        "  def __len__(self):\n",
        "    return len(self.reviews)\n",
        "  \n",
        "  def __getitem__(self, item):\n",
        "    review = str(self.reviews[item])\n",
        "    target = self.targets[item]\n",
        "\n",
        "    encoding = self.tokenizer.encode_plus(\n",
        "      review,\n",
        "      add_special_tokens=True,\n",
        "      max_length=self.max_len,\n",
        "      return_token_type_ids=False,\n",
        "      pad_to_max_length=True,\n",
        "      return_attention_mask=True,\n",
        "      return_tensors='pt',\n",
        "      truncation=True\n",
        "    )\n",
        "\n",
        "    return {\n",
        "      'review_text': review,\n",
        "      'input_ids': encoding['input_ids'].flatten(),\n",
        "      'attention_mask': encoding['attention_mask'].flatten(),\n",
        "      'targets': torch.tensor(target, dtype=torch.long)\n",
        "    }\n",
        "\n"
      ],
      "execution_count": 10,
      "outputs": []
    },
    {
      "cell_type": "code",
      "metadata": {
        "id": "vUDsrcj6lXxu"
      },
      "source": [
        "MAX_LEN = 160\n",
        "\n",
        "# train test split\n",
        "\n",
        "from sklearn.model_selection import train_test_split\n",
        "\n",
        "from sklearn.model_selection import train_test_split\n",
        "import tensorflow as tf\n",
        "\n",
        "t_X, val_X, t_Y, val_Y = train_test_split(single_data, single_label, test_size = 0.1)\n",
        "train_X, test_X, train_Y, test_Y = train_test_split(t_X, t_Y, test_size = 0.1)\n",
        "\n",
        "# Converting the labels to one-hot encoded vectors\n",
        "t_Y = tf.one_hot(t_Y, 3)\n",
        "val_Y = tf.one_hot(val_Y, 3)\n",
        "train_Y = tf.one_hot(train_Y, 3)\n",
        "test_Y = tf.one_hot(test_Y, 3)\n",
        "\n"
      ],
      "execution_count": 11,
      "outputs": []
    },
    {
      "cell_type": "code",
      "metadata": {
        "id": "bEdugDtqug9m"
      },
      "source": [
        "#LSTM Model\n",
        "\n",
        "from keras.models import Sequential\n",
        "from keras.layers import LSTM\n",
        "from keras.layers import Dropout\n",
        "from keras.layers import Dense, Input"
      ],
      "execution_count": 12,
      "outputs": []
    },
    {
      "cell_type": "code",
      "metadata": {
        "id": "V7_drqGQCAFG"
      },
      "source": [
        "import tensorflow as tf\n",
        "from tensorflow.keras.preprocessing.sequence import pad_sequences\n",
        "from tensorflow.keras.layers import Embedding, LSTM, Dense, Bidirectional\n",
        "from tensorflow.keras.preprocessing.text import Tokenizer\n",
        "from tensorflow.keras.models import Sequential\n",
        "from tensorflow.keras.optimizers import Adam\n",
        "import numpy as np\n"
      ],
      "execution_count": 13,
      "outputs": []
    },
    {
      "cell_type": "code",
      "metadata": {
        "id": "TJEkKUqdCLR8"
      },
      "source": [
        "# Creating a Tokenizer \n",
        "\n",
        "tokenizer = Tokenizer()\n",
        "\n",
        "tokenizer.fit_on_texts(train_X)\n",
        "\n",
        "# Length of the total tokenized words\n",
        "total_words = len(tokenizer.word_index) + 1\n"
      ],
      "execution_count": null,
      "outputs": []
    },
    {
      "cell_type": "code",
      "metadata": {
        "id": "7dQkHMFZEPtm"
      },
      "source": [
        "# Tokenizing and padding the news headlines for LSTM input\n",
        "\n",
        "def convert_to_sequences(input_array, max_seq_len = 0):\n",
        "  token_list = tokenizer.texts_to_sequences(input_array)\n",
        "  max_seq_len = max(max([len(x) for x in token_list]), max_seq_len)\n",
        "  input_sequences = np.array(pad_sequences(token_list, maxlen=max_seq_len, padding='post'))\n",
        "  return input_sequences, max_seq_len"
      ],
      "execution_count": 15,
      "outputs": []
    },
    {
      "cell_type": "markdown",
      "metadata": {
        "id": "3sVniUlOYHt0"
      },
      "source": [
        ""
      ]
    },
    {
      "cell_type": "code",
      "metadata": {
        "colab": {
          "base_uri": "https://localhost:8080/"
        },
        "id": "WxKKRz-mGeqm",
        "outputId": "4bd1bbb1-0586-438b-b587-e3cdb130b358"
      },
      "source": [
        "# Creating a list of the tokenized sentences\n",
        "\n",
        "input_sequences = []\n",
        "\n",
        "token_list, max_seq_len = convert_to_sequences(train_X, 0)\n",
        "\n",
        "# Checking the shape of the tokenized list\n",
        "\n",
        "token_list.shape"
      ],
      "execution_count": 16,
      "outputs": [
        {
          "output_type": "execute_result",
          "data": {
            "text/plain": [
              "(36962, 30)"
            ]
          },
          "metadata": {
            "tags": []
          },
          "execution_count": 16
        }
      ]
    },
    {
      "cell_type": "markdown",
      "metadata": {
        "id": "OfhBhxXIKNTZ"
      },
      "source": [
        ""
      ]
    },
    {
      "cell_type": "code",
      "metadata": {
        "colab": {
          "base_uri": "https://localhost:8080/"
        },
        "id": "HtvJZWRfr3xZ",
        "outputId": "d48058b7-77d9-46e5-ddf6-8577bb779b03"
      },
      "source": [
        "# # Building, training and fitting the LSTM model\n",
        "\n",
        "import numpy\n",
        "\n",
        "# Building the LSTM Model\n",
        "model = Sequential()\n",
        "\n",
        "Xx = token_list\n",
        "\n",
        "Yy = train_Y\n",
        "\n",
        "# Layers of the LSTM Model\n",
        "model.add(Embedding(total_words, 10, input_length=Xx.shape[1]))\n",
        "model.add(LSTM(100, dropout=0.2, recurrent_dropout=0.2))\n",
        "model.add(Dense(3, activation='softmax'))\n",
        "\n",
        "# Compiling the LSTM Model\n",
        "model.compile(optimizer='adam',loss='categorical_crossentropy', metrics=['accuracy'])\n",
        "\n",
        "\n",
        "# Tokenizing the validation data too\n",
        "val_Xx, max_seq_len = convert_to_sequences(val_X, max_seq_len)\n",
        "\n",
        "val_Yy = val_Y\n",
        "\n",
        "# Fitting the model\n",
        "model_fitting = model.fit(Xx, Yy, epochs=20, batch_size=32, validation_data=(val_Xx, val_Yy))"
      ],
      "execution_count": 18,
      "outputs": [
        {
          "output_type": "stream",
          "text": [
            "WARNING:tensorflow:Layer lstm_1 will not use cuDNN kernel since it doesn't meet the cuDNN kernel criteria. It will use generic GPU kernel as fallback when running on GPU\n",
            "Epoch 1/20\n",
            "1156/1156 [==============================] - 108s 92ms/step - loss: 1.0960 - accuracy: 0.3501 - val_loss: 1.0722 - val_accuracy: 0.3885\n",
            "Epoch 2/20\n",
            "1156/1156 [==============================] - 106s 92ms/step - loss: 1.0189 - accuracy: 0.4757 - val_loss: 1.0530 - val_accuracy: 0.4571\n",
            "Epoch 3/20\n",
            "1156/1156 [==============================] - 106s 92ms/step - loss: 0.8765 - accuracy: 0.6043 - val_loss: 1.0215 - val_accuracy: 0.5169\n",
            "Epoch 4/20\n",
            "1156/1156 [==============================] - 105s 91ms/step - loss: 0.7479 - accuracy: 0.6822 - val_loss: 1.0174 - val_accuracy: 0.5447\n",
            "Epoch 5/20\n",
            "1156/1156 [==============================] - 109s 94ms/step - loss: 0.6553 - accuracy: 0.7319 - val_loss: 1.0051 - val_accuracy: 0.5635\n",
            "Epoch 6/20\n",
            "1156/1156 [==============================] - 106s 92ms/step - loss: 0.6047 - accuracy: 0.7587 - val_loss: 1.0288 - val_accuracy: 0.5752\n",
            "Epoch 7/20\n",
            "1156/1156 [==============================] - 107s 93ms/step - loss: 0.5596 - accuracy: 0.7750 - val_loss: 1.0033 - val_accuracy: 0.5874\n",
            "Epoch 8/20\n",
            "1156/1156 [==============================] - 106s 91ms/step - loss: 0.5177 - accuracy: 0.7926 - val_loss: 0.9581 - val_accuracy: 0.6043\n",
            "Epoch 9/20\n",
            "1156/1156 [==============================] - 106s 92ms/step - loss: 0.4731 - accuracy: 0.8109 - val_loss: 1.0075 - val_accuracy: 0.6181\n",
            "Epoch 10/20\n",
            "1156/1156 [==============================] - 106s 92ms/step - loss: 0.4503 - accuracy: 0.8192 - val_loss: 1.0185 - val_accuracy: 0.6155\n",
            "Epoch 11/20\n",
            "1156/1156 [==============================] - 106s 92ms/step - loss: 0.4216 - accuracy: 0.8306 - val_loss: 1.0592 - val_accuracy: 0.6295\n",
            "Epoch 12/20\n",
            "1156/1156 [==============================] - 106s 91ms/step - loss: 0.4011 - accuracy: 0.8385 - val_loss: 1.1145 - val_accuracy: 0.6273\n",
            "Epoch 13/20\n",
            "1156/1156 [==============================] - 106s 92ms/step - loss: 0.3761 - accuracy: 0.8500 - val_loss: 1.0516 - val_accuracy: 0.6444\n",
            "Epoch 14/20\n",
            "1156/1156 [==============================] - 106s 92ms/step - loss: 0.3526 - accuracy: 0.8592 - val_loss: 1.1238 - val_accuracy: 0.6444\n",
            "Epoch 15/20\n",
            "1156/1156 [==============================] - 106s 92ms/step - loss: 0.3273 - accuracy: 0.8727 - val_loss: 1.0757 - val_accuracy: 0.6626\n",
            "Epoch 16/20\n",
            "1156/1156 [==============================] - 107s 92ms/step - loss: 0.3016 - accuracy: 0.8800 - val_loss: 1.0924 - val_accuracy: 0.6659\n",
            "Epoch 17/20\n",
            "1156/1156 [==============================] - 107s 92ms/step - loss: 0.2925 - accuracy: 0.8882 - val_loss: 1.1099 - val_accuracy: 0.6604\n",
            "Epoch 18/20\n",
            "1156/1156 [==============================] - 107s 93ms/step - loss: 0.2698 - accuracy: 0.8945 - val_loss: 1.1638 - val_accuracy: 0.6681\n",
            "Epoch 19/20\n",
            "1156/1156 [==============================] - 106s 92ms/step - loss: 0.2616 - accuracy: 0.8987 - val_loss: 1.1868 - val_accuracy: 0.6786\n",
            "Epoch 20/20\n",
            "1156/1156 [==============================] - 107s 92ms/step - loss: 0.2436 - accuracy: 0.9056 - val_loss: 1.1615 - val_accuracy: 0.6948\n"
          ],
          "name": "stdout"
        }
      ]
    },
    {
      "cell_type": "code",
      "metadata": {
        "colab": {
          "base_uri": "https://localhost:8080/",
          "height": 295
        },
        "id": "taOraa0kG_Wl",
        "outputId": "1cdc58ff-287c-4d2e-b908-bc1802a9880d"
      },
      "source": [
        "# Plotting the train and the validation accuracy\n",
        "plt.plot(model_fitting.history['accuracy'])\n",
        "plt.plot(model_fitting.history['val_accuracy'])\n",
        "plt.title('model accuracy')\n",
        "plt.ylabel('accuracy')\n",
        "plt.xlabel('epoch')\n",
        "plt.legend(['train', 'val'], loc='upper left')\n",
        "plt.show()"
      ],
      "execution_count": 22,
      "outputs": [
        {
          "output_type": "display_data",
          "data": {
            "image/png": "[encoded data removed]",
            "text/plain": [
              "<Figure size 432x288 with 1 Axes>"
            ]
          },
          "metadata": {
            "tags": [],
            "needs_background": "light"
          }
        }
      ]
    },
    {
      "cell_type": "code",
      "metadata": {
        "colab": {
          "base_uri": "https://localhost:8080/",
          "height": 295
        },
        "id": "DX_n_a4JHKP1",
        "outputId": "7d0d5890-a7c9-440f-cbd3-11f38b35c58e"
      },
      "source": [
        "# Plotting the train and the validation loss\n",
        "\n",
        "plt.plot(model_fitting.history['loss'])\n",
        "plt.plot(model_fitting.history['val_loss'])\n",
        "plt.title('model loss')\n",
        "plt.ylabel('loss')\n",
        "plt.xlabel('epoch')\n",
        "plt.legend(['train', 'val'], loc='upper left')\n",
        "plt.show()"
      ],
      "execution_count": 20,
      "outputs": [
        {
          "output_type": "display_data",
          "data": {
            "image/png": "[encoded data removed]",
            "text/plain": [
              "<Figure size 432x288 with 1 Axes>"
            ]
          },
          "metadata": {
            "tags": [],
            "needs_background": "light"
          }
        }
      ]
    },
    {
      "cell_type": "code",
      "metadata": {
        "id": "Sd02BkrpvUqt"
      },
      "source": [
        "\n",
        "# X_test2 = tokenizer.texts_to_matrix(\n",
        "#     test_X, mode='binary'\n",
        "# )"
      ],
      "execution_count": null,
      "outputs": []
    },
    {
      "cell_type": "code",
      "metadata": {
        "id": "VV3tOp_4vXr-",
        "colab": {
          "base_uri": "https://localhost:8080/"
        },
        "outputId": "957d28fd-e8f7-4117-fc8f-7446a55d7f1e"
      },
      "source": [
        "# Tokenizing the test data\n",
        "\n",
        "Xx_test, max_seq_len = convert_to_sequences(test_X, max_seq_len)\n",
        "Yy_test = test_Y \n",
        "\n",
        "# Checking the shape of the testY\n",
        "test_Y.shape"
      ],
      "execution_count": 23,
      "outputs": [
        {
          "output_type": "execute_result",
          "data": {
            "text/plain": [
              "TensorShape([4107, 3])"
            ]
          },
          "metadata": {
            "tags": []
          },
          "execution_count": 23
        }
      ]
    },
    {
      "cell_type": "code",
      "metadata": {
        "id": "E5v2ekPMvgwU",
        "colab": {
          "base_uri": "https://localhost:8080/"
        },
        "outputId": "5da82094-d9e6-45c4-9005-9ac4be300228"
      },
      "source": [
        "# Shape of the tokenized X_test\n",
        "Xx_test.shape"
      ],
      "execution_count": 24,
      "outputs": [
        {
          "output_type": "execute_result",
          "data": {
            "text/plain": [
              "(4107, 30)"
            ]
          },
          "metadata": {
            "tags": []
          },
          "execution_count": 24
        }
      ]
    },
    {
      "cell_type": "code",
      "metadata": {
        "id": "nXRW6mXuwqO9",
        "colab": {
          "base_uri": "https://localhost:8080/"
        },
        "outputId": "fa281923-8126-4ec0-c710-3b1d2b87fd20"
      },
      "source": [
        "# Shape of the val_Y data\n",
        "val_Yy.shape\n"
      ],
      "execution_count": 25,
      "outputs": [
        {
          "output_type": "execute_result",
          "data": {
            "text/plain": [
              "TensorShape([4564, 3])"
            ]
          },
          "metadata": {
            "tags": []
          },
          "execution_count": 25
        }
      ]
    },
    {
      "cell_type": "code",
      "metadata": {
        "id": "GGx7WHPwva3n",
        "colab": {
          "base_uri": "https://localhost:8080/"
        },
        "outputId": "3380f5a9-4d06-4ef5-c848-d1acbd0221cd"
      },
      "source": [
        "# We find the predicted trend of the DJIA values here\n",
        "predicted_trend = model.predict(Xx_test)\n",
        "# Shape of the predicted trend\n",
        "print(predicted_trend.shape)"
      ],
      "execution_count": 26,
      "outputs": [
        {
          "output_type": "stream",
          "text": [
            "(4107, 3)\n"
          ],
          "name": "stdout"
        }
      ]
    },
    {
      "cell_type": "code",
      "metadata": {
        "id": "rB1iRAo64YgN",
        "colab": {
          "base_uri": "https://localhost:8080/"
        },
        "outputId": "ee9fb9b1-84f1-427e-b382-8816baa096b1"
      },
      "source": [
        "# Printing the predicted trend list\n",
        "\n",
        "print(predicted_trend.argmax(axis=-1))\n",
        "\n",
        "# using argmax for predictions\n",
        "\n",
        "predicted_trend_list = predicted_trend.argmax(axis=-1) # List of the predicted trend\n",
        "expected_trend_list = np.array(Yy_test).argmax(axis=-1) # List of the actual / expected trend\n",
        "\n",
        "\n",
        "# Shape of the predicted and the actual trend list is the same\n",
        "\n",
        "print(expected_trend_list.shape, predicted_trend_list.shape)"
      ],
      "execution_count": 27,
      "outputs": [
        {
          "output_type": "stream",
          "text": [
            "[1 2 1 ... 2 0 0]\n",
            "(4107,) (4107,)\n"
          ],
          "name": "stdout"
        }
      ]
    },
    {
      "cell_type": "code",
      "metadata": {
        "id": "nreVyJjPxi1U",
        "colab": {
          "base_uri": "https://localhost:8080/"
        },
        "outputId": "27a24194-72b3-40fe-bdba-48923f445a26"
      },
      "source": [
        "# Finding the loss and accuracy on the test data \n",
        "\n",
        "model.evaluate(Xx_test, Yy_test)"
      ],
      "execution_count": 28,
      "outputs": [
        {
          "output_type": "stream",
          "text": [
            "129/129 [==============================] - 1s 9ms/step - loss: 1.1045 - accuracy: 0.7027\n"
          ],
          "name": "stdout"
        },
        {
          "output_type": "execute_result",
          "data": {
            "text/plain": [
              "[1.1045266389846802, 0.7027027010917664]"
            ]
          },
          "metadata": {
            "tags": []
          },
          "execution_count": 28
        }
      ]
    },
    {
      "cell_type": "code",
      "metadata": {
        "colab": {
          "base_uri": "https://localhost:8080/",
          "height": 281
        },
        "id": "vah62W-56TiP",
        "outputId": "5ad2db42-4478-4640-cec3-0ec640724e02"
      },
      "source": [
        "# Confusion Matrix and Heat Map to see the results\n",
        "\n",
        "from sklearn.metrics import confusion_matrix\n",
        "from seaborn import heatmap\n",
        "\n",
        "confusion_matrix = confusion_matrix(expected_trend_list, predicted_trend_list)\n",
        "heatmap(confusion_matrix, annot=True, fmt='d')"
      ],
      "execution_count": 29,
      "outputs": [
        {
          "output_type": "execute_result",
          "data": {
            "text/plain": [
              "<matplotlib.axes._subplots.AxesSubplot at 0x7f6988286c90>"
            ]
          },
          "metadata": {
            "tags": []
          },
          "execution_count": 29
        },
        {
          "output_type": "display_data",
          "data": {
            "image/png": "[encoded data removed]",
            "text/plain": [
              "<Figure size 432x288 with 2 Axes>"
            ]
          },
          "metadata": {
            "tags": [],
            "needs_background": "light"
          }
        }
      ]
    },
    {
      "cell_type": "code",
      "metadata": {
        "colab": {
          "base_uri": "https://localhost:8080/"
        },
        "id": "_aKlLIME6UNY",
        "outputId": "cf1ddf2e-2f8a-4301-b9ae-e2438b17bd77"
      },
      "source": [
        "# Classification Report for LSTM\n",
        "\n",
        "from sklearn.metrics import classification_report\n",
        "print(classification_report(predicted_trend_list, expected_trend_list))"
      ],
      "execution_count": 30,
      "outputs": [
        {
          "output_type": "stream",
          "text": [
            "              precision    recall  f1-score   support\n",
            "\n",
            "           0       0.78      0.71      0.74      1481\n",
            "           1       0.51      0.65      0.57      1044\n",
            "           2       0.81      0.73      0.77      1582\n",
            "\n",
            "    accuracy                           0.70      4107\n",
            "   macro avg       0.70      0.70      0.69      4107\n",
            "weighted avg       0.72      0.70      0.71      4107\n",
            "\n"
          ],
          "name": "stdout"
        }
      ]
    },
    {
      "cell_type": "code",
      "metadata": {
        "colab": {
          "base_uri": "https://localhost:8080/"
        },
        "id": "2te3q9DGAe_V",
        "outputId": "0c6df4b4-e396-4c97-a26e-12e4a1f5a596"
      },
      "source": [
        "# saving the model\n",
        "# model.save('model_v1')"
      ],
      "execution_count": null,
      "outputs": [
        {
          "output_type": "stream",
          "text": [
            "INFO:tensorflow:Assets written to: model_v1/assets\n"
          ],
          "name": "stdout"
        }
      ]
    }
  ]
}
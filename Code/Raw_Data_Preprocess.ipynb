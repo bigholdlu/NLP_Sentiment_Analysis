{
  "nbformat": 4,
  "nbformat_minor": 0,
  "metadata": {
    "colab": {
      "name": "Raw_Data_Preprocess.ipynb",
      "provenance": [],
      "collapsed_sections": []
    },
    "kernelspec": {
      "display_name": "Python 3",
      "name": "python3"
    },
    "language_info": {
      "name": "python"
    }
  },
  "cells": [
    {
      "cell_type": "markdown",
      "metadata": {
        "id": "luCp-oDgvxpc"
      },
      "source": [
        "In order to reproduce, create a folder 'Headers' and place 'reuter_headlines.csv' and 'Gauradians.csv' in that folder"
      ]
    },
    {
      "cell_type": "code",
      "metadata": {
        "id": "oQGt6Atn3nGC"
      },
      "source": [
        "import pandas as pd\n",
        "import numpy as np\n",
        "from datetime import datetime\n"
      ],
      "execution_count": null,
      "outputs": []
    },
    {
      "cell_type": "markdown",
      "metadata": {
        "id": "MvYMbIYMwiGR"
      },
      "source": [
        "Load Headlines Datasets and drop invalid entries"
      ]
    },
    {
      "cell_type": "code",
      "metadata": {
        "colab": {
          "base_uri": "https://localhost:8080/"
        },
        "id": "6CNR-yiF-d3m",
        "outputId": "265b4ddf-19c4-4a22-a403-72ca0e53e85a"
      },
      "source": [
        "#Guardian has a date format of Day / Month / Year Format\n",
        "\n",
        "#Custom date parser that assign NA if cannot convert to datetime\n",
        "custom_date_parser = lambda x : pd.to_datetime(x, errors='coerce')\n",
        "\n",
        "#Customize how to read the date\n",
        "#custom_date_parser = lambda x : datetime.strptime(x, '%d-%m-%y')\n",
        "\n",
        "\n",
        "df_g = pd.read_csv('Headers/guardian_headlines.csv', parse_dates=['Time'], date_parser=custom_date_parser)\n",
        "print('raw dataframe size of guardian data', df_g.shape)\n",
        "df_g = df_g.dropna(axis=0, how='any')\n",
        "print('nan dropped shape', df_g.shape)\n",
        "\n",
        "#read csv with date parser\n",
        "df_r = pd.read_csv('Headers/reuters_headlines.csv', parse_dates=['Time'], date_parser=custom_date_parser)\n",
        "\n",
        "#drop decription column (we only use headers)\n",
        "df_r = df_r.drop(labels='Description', axis=1)\n",
        "\n",
        "print('raw dataframe size of reuters data', df_r.shape)\n",
        "df_g = df_g.dropna(axis=0, how='any')\n",
        "print('nan dropped shape', df_r.shape)\n"
      ],
      "execution_count": null,
      "outputs": [
        {
          "output_type": "stream",
          "text": [
            "raw dataframe size of guardian data (17800, 2)\n",
            "nan dropped shape (17760, 2)\n",
            "raw dataframe size of reuters data (32770, 2)\n",
            "nan dropped shape (32770, 2)\n"
          ],
          "name": "stdout"
        }
      ]
    },
    {
      "cell_type": "markdown",
      "metadata": {
        "id": "tfq7Sae7ERUV"
      },
      "source": [
        "Datasets and Prices have different time frame, in order to sync, we first step is to find a common interval that contains all data"
      ]
    },
    {
      "cell_type": "code",
      "metadata": {
        "colab": {
          "base_uri": "https://localhost:8080/"
        },
        "id": "GzRUVMEGIQbd",
        "outputId": "20e1caa7-98fe-4237-ba66-94c1f211401c"
      },
      "source": [
        "df = pd.concat([df_g, df_r], ignore_index=True)\n",
        "df = df.sort_values(by='Time', ascending=False)\n",
        "start = df['Time'].min()\n",
        "end = df['Time'].max()\n",
        "print(start,'\\n', end)\n",
        "headers = df.sort_values(by='Time')"
      ],
      "execution_count": null,
      "outputs": [
        {
          "output_type": "stream",
          "text": [
            "2017-12-17 00:00:00 \n",
            " 2020-07-18 00:00:00\n"
          ],
          "name": "stdout"
        }
      ]
    },
    {
      "cell_type": "markdown",
      "metadata": {
        "id": "ZA0RrI0MwoM1"
      },
      "source": [
        "Confirm the trimed dataset is in the expected common range"
      ]
    },
    {
      "cell_type": "code",
      "metadata": {
        "id": "0DnF7-PP0L3o",
        "colab": {
          "base_uri": "https://localhost:8080/",
          "height": 450
        },
        "outputId": "823aa6c4-1b8f-4664-e1d6-f03423faf72f"
      },
      "source": [
        "Timed_header = headers.set_index(keys='Time')\n",
        "Timed_header"
      ],
      "execution_count": null,
      "outputs": [
        {
          "output_type": "execute_result",
          "data": {
            "text/html": [
              "<div>\n",
              "<style scoped>\n",
              "    .dataframe tbody tr th:only-of-type {\n",
              "        vertical-align: middle;\n",
              "    }\n",
              "\n",
              "    .dataframe tbody tr th {\n",
              "        vertical-align: top;\n",
              "    }\n",
              "\n",
              "    .dataframe thead th {\n",
              "        text-align: right;\n",
              "    }\n",
              "</style>\n",
              "<table border=\"1\" class=\"dataframe\">\n",
              "  <thead>\n",
              "    <tr style=\"text-align: right;\">\n",
              "      <th></th>\n",
              "      <th>Headlines</th>\n",
              "    </tr>\n",
              "    <tr>\n",
              "      <th>Time</th>\n",
              "      <th></th>\n",
              "    </tr>\n",
              "  </thead>\n",
              "  <tbody>\n",
              "    <tr>\n",
              "      <th>2017-12-17</th>\n",
              "      <td>The Guardian view on Ryanair’s model: a union-...</td>\n",
              "    </tr>\n",
              "    <tr>\n",
              "      <th>2017-12-17</th>\n",
              "      <td>Britons set new gin record after buying 47m bo...</td>\n",
              "    </tr>\n",
              "    <tr>\n",
              "      <th>2017-12-17</th>\n",
              "      <td>Unilever sells household name spreads to KKR f...</td>\n",
              "    </tr>\n",
              "    <tr>\n",
              "      <th>2017-12-17</th>\n",
              "      <td>Cryptocurrencies: City watchdog to investigate...</td>\n",
              "    </tr>\n",
              "    <tr>\n",
              "      <th>2017-12-17</th>\n",
              "      <td>Poundland suppliers hit by insurance downgrade</td>\n",
              "    </tr>\n",
              "    <tr>\n",
              "      <th>...</th>\n",
              "      <td>...</td>\n",
              "    </tr>\n",
              "    <tr>\n",
              "      <th>2020-07-18</th>\n",
              "      <td>Homebuyer loses £300,000 to fraudsters – but g...</td>\n",
              "    </tr>\n",
              "    <tr>\n",
              "      <th>2020-07-18</th>\n",
              "      <td>Democratising finance for all? An investment a...</td>\n",
              "    </tr>\n",
              "    <tr>\n",
              "      <th>2020-07-18</th>\n",
              "      <td>Empty city centres: 'I’m not sure it will ever...</td>\n",
              "    </tr>\n",
              "    <tr>\n",
              "      <th>2020-07-18</th>\n",
              "      <td>Disney cuts ad spending on Facebook amid growi...</td>\n",
              "    </tr>\n",
              "    <tr>\n",
              "      <th>2020-07-18</th>\n",
              "      <td>Johnson is asking Santa for a Christmas recovery</td>\n",
              "    </tr>\n",
              "  </tbody>\n",
              "</table>\n",
              "<p>50530 rows × 1 columns</p>\n",
              "</div>"
            ],
            "text/plain": [
              "                                                    Headlines\n",
              "Time                                                         \n",
              "2017-12-17  The Guardian view on Ryanair’s model: a union-...\n",
              "2017-12-17  Britons set new gin record after buying 47m bo...\n",
              "2017-12-17  Unilever sells household name spreads to KKR f...\n",
              "2017-12-17  Cryptocurrencies: City watchdog to investigate...\n",
              "2017-12-17     Poundland suppliers hit by insurance downgrade\n",
              "...                                                       ...\n",
              "2020-07-18  Homebuyer loses £300,000 to fraudsters – but g...\n",
              "2020-07-18  Democratising finance for all? An investment a...\n",
              "2020-07-18  Empty city centres: 'I’m not sure it will ever...\n",
              "2020-07-18  Disney cuts ad spending on Facebook amid growi...\n",
              "2020-07-18   Johnson is asking Santa for a Christmas recovery\n",
              "\n",
              "[50530 rows x 1 columns]"
            ]
          },
          "metadata": {
            "tags": []
          },
          "execution_count": 89
        }
      ]
    },
    {
      "cell_type": "markdown",
      "metadata": {
        "id": "QRrF-iQWE526"
      },
      "source": [
        "Save combined dataset into a csv"
      ]
    },
    {
      "cell_type": "code",
      "metadata": {
        "id": "PggTTeaKcQaE"
      },
      "source": [
        "Timed_header.to_csv('Data.csv')"
      ],
      "execution_count": null,
      "outputs": []
    }
  ]
}
